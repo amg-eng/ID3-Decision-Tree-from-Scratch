{
  "cells": [
    {
      "cell_type": "markdown",
      "id": "4d4832df",
      "metadata": {
        "id": "4d4832df"
      },
      "source": [
        "---\n",
        "# Cairo University Faculty of Engineering\n",
        "## Machine Learning\n",
        "## Assignment 6\n",
        "\n",
        "---"
      ]
    },
    {
      "cell_type": "markdown",
      "id": "c8cb1969",
      "metadata": {
        "id": "c8cb1969"
      },
      "source": [
        "- **Name** : amgad atef abd elhakem shaban"
      ]
    },
    {
      "cell_type": "markdown",
      "id": "5eabfed9",
      "metadata": {},
      "source": [
        "## Import libraries"
      ]
    },
    {
      "cell_type": "code",
      "execution_count": 1,
      "id": "643e7732-dd96-47df-854f-007ec5d5e10c",
      "metadata": {
        "id": "643e7732-dd96-47df-854f-007ec5d5e10c"
      },
      "outputs": [],
      "source": [
        "import numpy as np\n",
        "import pandas as pd\n",
        "from matplotlib.colors import ListedColormap\n",
        "import matplotlib.pyplot as plt"
      ]
    },
    {
      "cell_type": "markdown",
      "id": "56a4ed71",
      "metadata": {},
      "source": [
        "# Part 1:  Data Reading and Preprocessing"
      ]
    },
    {
      "cell_type": "markdown",
      "id": "d8a36f03",
      "metadata": {},
      "source": [
        "## Explore data"
      ]
    },
    {
      "cell_type": "code",
      "execution_count": 2,
      "id": "5f2ef6d9",
      "metadata": {},
      "outputs": [
        {
          "name": "stdout",
          "output_type": "stream",
          "text": [
            "<class 'pandas.core.frame.DataFrame'>\n",
            "RangeIndex: 70000 entries, 0 to 69999\n",
            "Data columns (total 13 columns):\n",
            " #   Column       Non-Null Count  Dtype  \n",
            "---  ------       --------------  -----  \n",
            " 0   id           70000 non-null  int64  \n",
            " 1   age          70000 non-null  int64  \n",
            " 2   gender       70000 non-null  int64  \n",
            " 3   height       70000 non-null  int64  \n",
            " 4   weight       70000 non-null  float64\n",
            " 5   ap_hi        70000 non-null  int64  \n",
            " 6   ap_lo        70000 non-null  int64  \n",
            " 7   cholesterol  70000 non-null  int64  \n",
            " 8   gluc         70000 non-null  int64  \n",
            " 9   smoke        70000 non-null  int64  \n",
            " 10  alco         70000 non-null  int64  \n",
            " 11  active       70000 non-null  int64  \n",
            " 12  cardio       70000 non-null  int64  \n",
            "dtypes: float64(1), int64(12)\n",
            "memory usage: 6.9 MB\n",
            "None\n"
          ]
        },
        {
          "data": {
            "text/html": [
              "<div>\n",
              "<style scoped>\n",
              "    .dataframe tbody tr th:only-of-type {\n",
              "        vertical-align: middle;\n",
              "    }\n",
              "\n",
              "    .dataframe tbody tr th {\n",
              "        vertical-align: top;\n",
              "    }\n",
              "\n",
              "    .dataframe thead th {\n",
              "        text-align: right;\n",
              "    }\n",
              "</style>\n",
              "<table border=\"1\" class=\"dataframe\">\n",
              "  <thead>\n",
              "    <tr style=\"text-align: right;\">\n",
              "      <th></th>\n",
              "      <th>id</th>\n",
              "      <th>age</th>\n",
              "      <th>gender</th>\n",
              "      <th>height</th>\n",
              "      <th>weight</th>\n",
              "      <th>ap_hi</th>\n",
              "      <th>ap_lo</th>\n",
              "      <th>cholesterol</th>\n",
              "      <th>gluc</th>\n",
              "      <th>smoke</th>\n",
              "      <th>alco</th>\n",
              "      <th>active</th>\n",
              "      <th>cardio</th>\n",
              "    </tr>\n",
              "  </thead>\n",
              "  <tbody>\n",
              "    <tr>\n",
              "      <th>0</th>\n",
              "      <td>0</td>\n",
              "      <td>18393</td>\n",
              "      <td>2</td>\n",
              "      <td>168</td>\n",
              "      <td>62.0</td>\n",
              "      <td>110</td>\n",
              "      <td>80</td>\n",
              "      <td>1</td>\n",
              "      <td>1</td>\n",
              "      <td>0</td>\n",
              "      <td>0</td>\n",
              "      <td>1</td>\n",
              "      <td>0</td>\n",
              "    </tr>\n",
              "    <tr>\n",
              "      <th>1</th>\n",
              "      <td>1</td>\n",
              "      <td>20228</td>\n",
              "      <td>1</td>\n",
              "      <td>156</td>\n",
              "      <td>85.0</td>\n",
              "      <td>140</td>\n",
              "      <td>90</td>\n",
              "      <td>3</td>\n",
              "      <td>1</td>\n",
              "      <td>0</td>\n",
              "      <td>0</td>\n",
              "      <td>1</td>\n",
              "      <td>1</td>\n",
              "    </tr>\n",
              "    <tr>\n",
              "      <th>2</th>\n",
              "      <td>2</td>\n",
              "      <td>18857</td>\n",
              "      <td>1</td>\n",
              "      <td>165</td>\n",
              "      <td>64.0</td>\n",
              "      <td>130</td>\n",
              "      <td>70</td>\n",
              "      <td>3</td>\n",
              "      <td>1</td>\n",
              "      <td>0</td>\n",
              "      <td>0</td>\n",
              "      <td>0</td>\n",
              "      <td>1</td>\n",
              "    </tr>\n",
              "    <tr>\n",
              "      <th>3</th>\n",
              "      <td>3</td>\n",
              "      <td>17623</td>\n",
              "      <td>2</td>\n",
              "      <td>169</td>\n",
              "      <td>82.0</td>\n",
              "      <td>150</td>\n",
              "      <td>100</td>\n",
              "      <td>1</td>\n",
              "      <td>1</td>\n",
              "      <td>0</td>\n",
              "      <td>0</td>\n",
              "      <td>1</td>\n",
              "      <td>1</td>\n",
              "    </tr>\n",
              "    <tr>\n",
              "      <th>4</th>\n",
              "      <td>4</td>\n",
              "      <td>17474</td>\n",
              "      <td>1</td>\n",
              "      <td>156</td>\n",
              "      <td>56.0</td>\n",
              "      <td>100</td>\n",
              "      <td>60</td>\n",
              "      <td>1</td>\n",
              "      <td>1</td>\n",
              "      <td>0</td>\n",
              "      <td>0</td>\n",
              "      <td>0</td>\n",
              "      <td>0</td>\n",
              "    </tr>\n",
              "  </tbody>\n",
              "</table>\n",
              "</div>"
            ],
            "text/plain": [
              "   id    age  gender  height  weight  ap_hi  ap_lo  cholesterol  gluc  smoke  \\\n",
              "0   0  18393       2     168    62.0    110     80            1     1      0   \n",
              "1   1  20228       1     156    85.0    140     90            3     1      0   \n",
              "2   2  18857       1     165    64.0    130     70            3     1      0   \n",
              "3   3  17623       2     169    82.0    150    100            1     1      0   \n",
              "4   4  17474       1     156    56.0    100     60            1     1      0   \n",
              "\n",
              "   alco  active  cardio  \n",
              "0     0       1       0  \n",
              "1     0       1       1  \n",
              "2     0       0       1  \n",
              "3     0       1       1  \n",
              "4     0       0       0  "
            ]
          },
          "execution_count": 2,
          "metadata": {},
          "output_type": "execute_result"
        }
      ],
      "source": [
        "#read the data and split it using ;\n",
        "cardio_train_df=pd.read_csv(\"cardio_train.csv\",sep=';')\n",
        "#print data information and first five elements\n",
        "print(cardio_train_df.info())\n",
        "cardio_train_df.head()"
      ]
    },
    {
      "cell_type": "markdown",
      "id": "bd9bcb46",
      "metadata": {},
      "source": [
        "### see which columns is continuous and witch is discrete"
      ]
    },
    {
      "cell_type": "code",
      "execution_count": 3,
      "id": "1c91de0c",
      "metadata": {},
      "outputs": [
        {
          "name": "stdout",
          "output_type": "stream",
          "text": [
            "Column: id\n",
            "id\n",
            "0        1\n",
            "66623    1\n",
            "66631    1\n",
            "66630    1\n",
            "66628    1\n",
            "        ..\n",
            "33338    1\n",
            "33339    1\n",
            "33340    1\n",
            "33341    1\n",
            "99999    1\n",
            "Name: count, Length: 70000, dtype: int64\n",
            "-------------------------\n",
            "Column: age\n",
            "age\n",
            "19741    32\n",
            "18236    32\n",
            "20376    31\n",
            "18253    31\n",
            "20442    31\n",
            "         ..\n",
            "19277     1\n",
            "16493     1\n",
            "20059     1\n",
            "23659     1\n",
            "17926     1\n",
            "Name: count, Length: 8076, dtype: int64\n",
            "-------------------------\n",
            "Column: gender\n",
            "gender\n",
            "1    45530\n",
            "2    24470\n",
            "Name: count, dtype: int64\n",
            "-------------------------\n",
            "Column: height\n",
            "height\n",
            "165    5853\n",
            "160    5022\n",
            "170    4679\n",
            "168    4399\n",
            "164    3396\n",
            "       ... \n",
            "112       1\n",
            "98        1\n",
            "74        1\n",
            "119       1\n",
            "57        1\n",
            "Name: count, Length: 109, dtype: int64\n",
            "-------------------------\n",
            "Column: weight\n",
            "weight\n",
            "65.0    3850\n",
            "70.0    3764\n",
            "68.0    2831\n",
            "75.0    2740\n",
            "60.0    2710\n",
            "        ... \n",
            "92.2       1\n",
            "75.6       1\n",
            "82.9       1\n",
            "23.0       1\n",
            "99.9       1\n",
            "Name: count, Length: 287, dtype: int64\n",
            "-------------------------\n",
            "Column: ap_hi\n",
            "ap_hi\n",
            " 120     27699\n",
            " 140      9506\n",
            " 130      8961\n",
            " 110      8644\n",
            " 150      4450\n",
            "         ...  \n",
            " 1620        1\n",
            " 199         1\n",
            "-150         1\n",
            "-115         1\n",
            " 2000        1\n",
            "Name: count, Length: 153, dtype: int64\n",
            "-------------------------\n",
            "Column: ap_lo\n",
            "ap_lo\n",
            "80     34847\n",
            "90     14316\n",
            "70     10245\n",
            "100     4082\n",
            "60      2727\n",
            "       ...  \n",
            "56         1\n",
            "182        1\n",
            "810        1\n",
            "9          1\n",
            "602        1\n",
            "Name: count, Length: 157, dtype: int64\n",
            "-------------------------\n",
            "Column: cholesterol\n",
            "cholesterol\n",
            "1    52385\n",
            "2     9549\n",
            "3     8066\n",
            "Name: count, dtype: int64\n",
            "-------------------------\n",
            "Column: gluc\n",
            "gluc\n",
            "1    59479\n",
            "3     5331\n",
            "2     5190\n",
            "Name: count, dtype: int64\n",
            "-------------------------\n",
            "Column: smoke\n",
            "smoke\n",
            "0    63831\n",
            "1     6169\n",
            "Name: count, dtype: int64\n",
            "-------------------------\n",
            "Column: alco\n",
            "alco\n",
            "0    66236\n",
            "1     3764\n",
            "Name: count, dtype: int64\n",
            "-------------------------\n",
            "Column: active\n",
            "active\n",
            "1    56261\n",
            "0    13739\n",
            "Name: count, dtype: int64\n",
            "-------------------------\n",
            "Column: cardio\n",
            "cardio\n",
            "0    35021\n",
            "1    34979\n",
            "Name: count, dtype: int64\n",
            "-------------------------\n"
          ]
        }
      ],
      "source": [
        "#print the data in each column associated with the number of rebitation\n",
        "for col in cardio_train_df.columns:\n",
        "    print(f\"Column: {col}\")\n",
        "    value_counts = cardio_train_df[col].value_counts()\n",
        "    print(value_counts)\n",
        "    print(\"-------------------------\")"
      ]
    },
    {
      "cell_type": "markdown",
      "id": "45eef1a3",
      "metadata": {},
      "source": [
        "### plot continuous columns to detect outlier"
      ]
    },
    {
      "cell_type": "code",
      "execution_count": 4,
      "id": "0d679cf7",
      "metadata": {},
      "outputs": [
        {
          "name": "stdout",
          "output_type": "stream",
          "text": [
            "Column: ap_lo\n"
          ]
        },
        {
          "data": {
            "image/png": "[encoded data removed]",
            "text/plain": [
              "<Figure size 500x500 with 1 Axes>"
            ]
          },
          "metadata": {},
          "output_type": "display_data"
        },
        {
          "name": "stdout",
          "output_type": "stream",
          "text": [
            "count    70000.000000\n",
            "mean        96.630414\n",
            "std        188.472530\n",
            "min        -70.000000\n",
            "25%         80.000000\n",
            "50%         80.000000\n",
            "75%         90.000000\n",
            "max      11000.000000\n",
            "Name: ap_lo, dtype: float64\n",
            "-------------------------\n",
            "Column: ap_hi\n"
          ]
        },
        {
          "data": {
            "image/png": "[encoded data removed]",
            "text/plain": [
              "<Figure size 500x500 with 1 Axes>"
            ]
          },
          "metadata": {},
          "output_type": "display_data"
        },
        {
          "name": "stdout",
          "output_type": "stream",
          "text": [
            "count    70000.000000\n",
            "mean       128.817286\n",
            "std        154.011419\n",
            "min       -150.000000\n",
            "25%        120.000000\n",
            "50%        120.000000\n",
            "75%        140.000000\n",
            "max      16020.000000\n",
            "Name: ap_hi, dtype: float64\n",
            "-------------------------\n",
            "Column: weight\n"
          ]
        },
        {
          "data": {
            "image/png": "[encoded data removed]",
            "text/plain": [
              "<Figure size 500x500 with 1 Axes>"
            ]
          },
          "metadata": {},
          "output_type": "display_data"
        },
        {
          "name": "stdout",
          "output_type": "stream",
          "text": [
            "count    70000.000000\n",
            "mean        74.205690\n",
            "std         14.395757\n",
            "min         10.000000\n",
            "25%         65.000000\n",
            "50%         72.000000\n",
            "75%         82.000000\n",
            "max        200.000000\n",
            "Name: weight, dtype: float64\n",
            "-------------------------\n",
            "Column: height\n"
          ]
        },
        {
          "data": {
            "image/png": "[encoded data removed]",
            "text/plain": [
              "<Figure size 500x500 with 1 Axes>"
            ]
          },
          "metadata": {},
          "output_type": "display_data"
        },
        {
          "name": "stdout",
          "output_type": "stream",
          "text": [
            "count    70000.000000\n",
            "mean       164.359229\n",
            "std          8.210126\n",
            "min         55.000000\n",
            "25%        159.000000\n",
            "50%        165.000000\n",
            "75%        170.000000\n",
            "max        250.000000\n",
            "Name: height, dtype: float64\n",
            "-------------------------\n",
            "Column: age\n"
          ]
        },
        {
          "data": {
            "image/png": "[encoded data removed]",
            "text/plain": [
              "<Figure size 500x500 with 1 Axes>"
            ]
          },
          "metadata": {},
          "output_type": "display_data"
        },
        {
          "name": "stdout",
          "output_type": "stream",
          "text": [
            "count    70000.000000\n",
            "mean     19468.865814\n",
            "std       2467.251667\n",
            "min      10798.000000\n",
            "25%      17664.000000\n",
            "50%      19703.000000\n",
            "75%      21327.000000\n",
            "max      23713.000000\n",
            "Name: age, dtype: float64\n",
            "-------------------------\n"
          ]
        }
      ],
      "source": [
        "#choose only continuous columns to plot\n",
        "columns_to_plot=[\"ap_lo\",\"ap_hi\",\"weight\",\"height\",\"age\"]\n",
        "for col in columns_to_plot:\n",
        "    fig, axes = plt.subplots(figsize=(5, 5))\n",
        "    print(f\"Column: {col}\")\n",
        "    # Get the description of the values in each column (max,min,mean, etc)\n",
        "    describe = cardio_train_df[col].describe()\n",
        "    cardio_train_df.boxplot(col, ax=axes)\n",
        "    axes.set_title(f'Box Plot of {col}')\n",
        "    axes.set_ylabel(col)\n",
        "    plt.tight_layout()\n",
        "    plt.show()\n",
        "    print(describe)\n",
        "    print(\"-------------------------\")\n"
      ]
    },
    {
      "cell_type": "markdown",
      "id": "cc6c9ff1",
      "metadata": {},
      "source": [
        "## Data cleaning"
      ]
    },
    {
      "cell_type": "markdown",
      "id": "669c57d5",
      "metadata": {},
      "source": [
        "### remove outlier from ap_hi and ap_lo"
      ]
    },
    {
      "cell_type": "markdown",
      "id": "ec1c5144",
      "metadata": {},
      "source": [
        "values bigger than 400 is outlier as the highest measured blood pressure is 370 and there is no blood pressure in negative"
      ]
    },
    {
      "cell_type": "code",
      "execution_count": 5,
      "id": "7dc05856",
      "metadata": {},
      "outputs": [],
      "source": [
        "cardio_train_df = cardio_train_df[cardio_train_df[\"ap_hi\"] < 400]\n",
        "cardio_train_df = cardio_train_df[cardio_train_df[\"ap_lo\"] < 400]\n",
        "cardio_train_df = cardio_train_df[cardio_train_df[\"ap_hi\"] > 0]\n",
        "cardio_train_df = cardio_train_df[cardio_train_df[\"ap_lo\"] > 0]"
      ]
    },
    {
      "cell_type": "markdown",
      "id": "4c88e320",
      "metadata": {},
      "source": [
        "### convert ap_hi,ap_lo, age, weight and height into discrete "
      ]
    },
    {
      "cell_type": "markdown",
      "id": "ce67661c",
      "metadata": {},
      "source": [
        "categorize the ap_hi to 3 categories:\n",
        "\n",
        "1) -1 for less than 90 \n",
        "\n",
        "2) 0 for between 90 and 140 \n",
        "\n",
        "3) 1 for bigger than 140"
      ]
    },
    {
      "cell_type": "code",
      "execution_count": 6,
      "id": "11863ea4",
      "metadata": {},
      "outputs": [],
      "source": [
        "def discretize_ap_hi(value):\n",
        "    if value < 90 :\n",
        "        return -1\n",
        "    elif value<140:\n",
        "        return 0\n",
        "    else:\n",
        "        return 1\n",
        "\n",
        "cardio_train_df[\"ap_hi\"] = cardio_train_df[\"ap_hi\"].apply(discretize_ap_hi)\n"
      ]
    },
    {
      "cell_type": "markdown",
      "id": "941a7012",
      "metadata": {},
      "source": [
        "categorize the ap_lo to 3 categories:\n",
        "\n",
        "1) -1 for less than 60 \n",
        "\n",
        "2) 0 for between 60 and 90 \n",
        "\n",
        "3) 1 for bigger than 90"
      ]
    },
    {
      "cell_type": "code",
      "execution_count": 7,
      "id": "555dbb7e",
      "metadata": {},
      "outputs": [],
      "source": [
        "def discretize_ap_lo(value):\n",
        "    if value < 60 :\n",
        "        return -1\n",
        "    elif value<90:\n",
        "        return 0\n",
        "    else:\n",
        "        return 1\n",
        "\n",
        "cardio_train_df[\"ap_lo\"] = cardio_train_df[\"ap_lo\"].apply(discretize_ap_lo)\n"
      ]
    },
    {
      "cell_type": "markdown",
      "id": "0b7f1511",
      "metadata": {},
      "source": [
        "categorize the age to 4 categories:\n",
        "\n",
        "1) 1 for less than 30 years \n",
        "\n",
        "2) 2 for between 30 and 42 years \n",
        "\n",
        "2) 3 for between 42 and 54 years \n",
        "\n",
        "3) 4 for bigger than 54 years"
      ]
    },
    {
      "cell_type": "code",
      "execution_count": 8,
      "id": "1fe29859",
      "metadata": {},
      "outputs": [],
      "source": [
        "def discretize_age(value):\n",
        "    if value < 30*365 :\n",
        "        return 1\n",
        "    elif value<42*365:\n",
        "        return 2\n",
        "    elif value<54*365:\n",
        "        return 3\n",
        "    else:\n",
        "        return 4\n",
        "\n",
        "cardio_train_df[\"age\"] = cardio_train_df[\"age\"].apply(discretize_age)"
      ]
    },
    {
      "cell_type": "markdown",
      "id": "8a8fa2b0",
      "metadata": {},
      "source": [
        "categorize the weight to 4 categories:\n",
        "\n",
        "1) 1 for less than 50 Kg \n",
        "\n",
        "2) 2 for between 50 and 100 Kg \n",
        "\n",
        "2) 3 for between 100 and 150 Kg \n",
        "\n",
        "3) 4 for bigger than 150 Kg"
      ]
    },
    {
      "cell_type": "code",
      "execution_count": 9,
      "id": "0049189e",
      "metadata": {},
      "outputs": [],
      "source": [
        "def discretize_weight(value):\n",
        "    if value < 50 :\n",
        "        return 1\n",
        "    elif value<100:\n",
        "        return 2\n",
        "    elif value<150:\n",
        "        return 3\n",
        "    else:\n",
        "        return 4\n",
        "\n",
        "cardio_train_df[\"weight\"] = cardio_train_df[\"weight\"].apply(discretize_weight)"
      ]
    },
    {
      "cell_type": "markdown",
      "id": "f2d72b6f",
      "metadata": {},
      "source": [
        "categorize the weight to 4 categories:\n",
        "\n",
        "1) 1 for less than 150 cm \n",
        "\n",
        "2) 2 for between 150 and 175 cm \n",
        "\n",
        "2) 3 for bigger than 175 cm\n"
      ]
    },
    {
      "cell_type": "code",
      "execution_count": 10,
      "id": "30a8c064",
      "metadata": {},
      "outputs": [],
      "source": [
        "def discretize_height(value):\n",
        "    if value < 150 :\n",
        "        return 1\n",
        "    elif value<175:\n",
        "        return 2\n",
        "    else:\n",
        "        return 3\n",
        "\n",
        "cardio_train_df[\"height\"] = cardio_train_df[\"height\"].apply(discretize_height)"
      ]
    },
    {
      "cell_type": "markdown",
      "id": "015134d7",
      "metadata": {},
      "source": [
        "get the value_counts() after categorization"
      ]
    },
    {
      "cell_type": "code",
      "execution_count": 11,
      "id": "9057f01c",
      "metadata": {},
      "outputs": [
        {
          "name": "stdout",
          "output_type": "stream",
          "text": [
            "Column: id\n",
            "id\n",
            "0        1\n",
            "66632    1\n",
            "66614    1\n",
            "66615    1\n",
            "66617    1\n",
            "        ..\n",
            "33340    1\n",
            "33341    1\n",
            "33342    1\n",
            "33343    1\n",
            "99999    1\n",
            "Name: count, Length: 68985, dtype: int64\n",
            "Column: age\n",
            "age\n",
            "4    34306\n",
            "3    29426\n",
            "2     5250\n",
            "1        3\n",
            "Name: count, dtype: int64\n",
            "Column: gender\n",
            "gender\n",
            "1    44932\n",
            "2    24053\n",
            "Name: count, dtype: int64\n",
            "Column: height\n",
            "height\n",
            "2    60237\n",
            "3     7235\n",
            "1     1513\n",
            "Name: count, dtype: int64\n",
            "Column: weight\n",
            "weight\n",
            "2    64280\n",
            "3     3658\n",
            "1      978\n",
            "4       69\n",
            "Name: count, dtype: int64\n",
            "Column: ap_hi\n",
            "ap_hi\n",
            " 0    50191\n",
            " 1    18487\n",
            "-1      307\n",
            "Name: count, dtype: int64\n",
            "Column: ap_lo\n",
            "ap_lo\n",
            " 0    49363\n",
            " 1    19469\n",
            "-1      153\n",
            "Name: count, dtype: int64\n",
            "Column: cholesterol\n",
            "cholesterol\n",
            "1    51747\n",
            "2     9339\n",
            "3     7899\n",
            "Name: count, dtype: int64\n",
            "Column: gluc\n",
            "gluc\n",
            "1    58650\n",
            "3     5247\n",
            "2     5088\n",
            "Name: count, dtype: int64\n",
            "Column: smoke\n",
            "smoke\n",
            "0    62924\n",
            "1     6061\n",
            "Name: count, dtype: int64\n",
            "Column: alco\n",
            "alco\n",
            "0    65288\n",
            "1     3697\n",
            "Name: count, dtype: int64\n",
            "Column: active\n",
            "active\n",
            "1    55414\n",
            "0    13571\n",
            "Name: count, dtype: int64\n",
            "Column: cardio\n",
            "cardio\n",
            "0    34844\n",
            "1    34141\n",
            "Name: count, dtype: int64\n"
          ]
        }
      ],
      "source": [
        "for col in cardio_train_df.columns:\n",
        "    print(f\"Column: {col}\")\n",
        "    value_counts = cardio_train_df[col].value_counts()\n",
        "    print(value_counts)"
      ]
    },
    {
      "cell_type": "markdown",
      "id": "98a929d3",
      "metadata": {},
      "source": [
        "### feature selection "
      ]
    },
    {
      "cell_type": "code",
      "execution_count": 12,
      "id": "16e7cd2c",
      "metadata": {},
      "outputs": [
        {
          "name": "stdout",
          "output_type": "stream",
          "text": [
            "Selected Features: ['ap_hi', 'ap_lo', 'cholesterol', 'age']\n",
            "\n"
          ]
        },
        {
          "data": {
            "image/png": "[encoded data removed]",
            "text/plain": [
              "<Figure size 500x500 with 2 Axes>"
            ]
          },
          "metadata": {},
          "output_type": "display_data"
        }
      ],
      "source": [
        "import seaborn as sns\n",
        "#calculate correlation matrix\n",
        "corr_matrix = cardio_train_df.corr()\n",
        "mask = np.triu(np.ones_like(corr_matrix, dtype=bool))\n",
        "f, ax = plt.subplots(figsize=(5, 5))\n",
        "cmap = sns.diverging_palette(230, 20, as_cmap=True)\n",
        "sns.heatmap(corr_matrix, mask=mask, cmap=cmap, vmax=.3, center=0,\n",
        "            square=True, linewidths=.5, cbar_kws={\"shrink\": .5})\n",
        "plt.title('Correlation Matrix Heatmap')\n",
        "#sort correlation value with the cardio column\n",
        "corr_with_target = corr_matrix['cardio'].abs().sort_values(ascending=False)\n",
        "#choose correlation value bigger than 0.2 and smaller than 1(to remove cardio column)\n",
        "selected_features = corr_with_target[(corr_with_target > 0.2) & (corr_with_target < 1)].index.tolist()\n",
        "\n",
        "print(f\"Selected Features: {selected_features}\\n\")\n",
        "\n",
        "plt.show()"
      ]
    },
    {
      "cell_type": "markdown",
      "id": "24b0cbf7-010c-4f1e-96e5-73d79e99a007",
      "metadata": {
        "id": "24b0cbf7-010c-4f1e-96e5-73d79e99a007",
        "tags": []
      },
      "source": [
        "# Part 2: Decision Tree implementation using ID3 algorithm"
      ]
    },
    {
      "cell_type": "markdown",
      "id": "164ced46-3aab-4bb3-8be1-ce62dfbd841d",
      "metadata": {
        "id": "164ced46-3aab-4bb3-8be1-ce62dfbd841d"
      },
      "source": [
        "### Decision Tree code\n"
      ]
    },
    {
      "cell_type": "markdown",
      "id": "60911e8c",
      "metadata": {},
      "source": [
        "entropy function\n"
      ]
    },
    {
      "cell_type": "code",
      "execution_count": 13,
      "id": "0ec47ea8",
      "metadata": {},
      "outputs": [],
      "source": [
        "def entropy_of_column(y):\n",
        "    entropy=0 #intialize entropy with 0\n",
        "    for i in y.value_counts().values:\n",
        "        probabilities=(i/y.shape[0])\n",
        "        entropy-=probabilities*np.log2(probabilities)\n",
        "    return entropy"
      ]
    },
    {
      "cell_type": "markdown",
      "id": "3ae55c3e",
      "metadata": {},
      "source": [
        "rem function"
      ]
    },
    {
      "cell_type": "code",
      "execution_count": 14,
      "id": "5624dfe6",
      "metadata": {},
      "outputs": [],
      "source": [
        "def rem(dataframe,target,column):\n",
        "    rem_value=0 #intialize rem with 0\n",
        "    values_entropy_dic={}\n",
        "    #loop in column values\n",
        "    for value in dataframe[column].unique():\n",
        "        # get the data in witch the column value equal iterator variable value to calculated column entropy\n",
        "        data_equal_value=dataframe[dataframe[column]==value]\n",
        "        #calculated column entropy\n",
        "        value_entropy=entropy_of_column(data_equal_value[target])\n",
        "        #calculated column rem\n",
        "        rem_value+=data_equal_value.shape[0]/dataframe.shape[0]  * value_entropy\n",
        "        #append the value of the entropy to use it later without another calculation\n",
        "        values_entropy_dic[value]=value_entropy\n",
        "    return rem_value,values_entropy_dic"
      ]
    },
    {
      "cell_type": "markdown",
      "id": "98d9361d",
      "metadata": {},
      "source": [
        "calculate the information gain for each column in data"
      ]
    },
    {
      "cell_type": "code",
      "execution_count": 15,
      "id": "00808524",
      "metadata": {},
      "outputs": [],
      "source": [
        "def information_gain(dataframe,target):\n",
        "    IG={}\n",
        "    columns_values_entropy={}\n",
        "    entropy_of_target=entropy_of_column(dataframe[target])\n",
        "    for column in dataframe.columns:\n",
        "        if(column!=target):\n",
        "            column_rem,columns_values_entropy[column]=rem(dataframe=dataframe,target=target,column=column)\n",
        "            IG[column]=entropy_of_target-column_rem\n",
        "    return IG,columns_values_entropy"
      ]
    },
    {
      "cell_type": "markdown",
      "id": "7ed5d40b",
      "metadata": {},
      "source": [
        "# create node class"
      ]
    },
    {
      "cell_type": "code",
      "execution_count": 16,
      "id": "f76cda70",
      "metadata": {},
      "outputs": [],
      "source": [
        "class Node:\n",
        "    def __init__(self, parent,value,depth,num,result=None):\n",
        "        self.parent = parent\n",
        "        self.children = []\n",
        "        self.value=value\n",
        "        self.question=None #splitting in the values of this column\n",
        "\n",
        "        # equal None if node in the middle\n",
        "        # equal one if pure node \n",
        "        # equal the biggest class if leaf and not pure\n",
        "        self.result=result\n",
        "        self.depth=depth\n",
        "        self.num=num"
      ]
    },
    {
      "cell_type": "markdown",
      "id": "c3e9a95f",
      "metadata": {},
      "source": [
        "# create Decision_Tree class"
      ]
    },
    {
      "cell_type": "code",
      "execution_count": 17,
      "id": "40d2cac8",
      "metadata": {},
      "outputs": [],
      "source": [
        "class Decision_Tree:\n",
        "    def __init__(self):\n",
        "        self.training_dataframe=None\n",
        "        self.working_point={} # for point which will be splitted with its data and probability of biggest class\n",
        "        self.root=Node(parent=None,value=None,depth=0,num=0)\n",
        "        \n",
        "    def fit(self,X,y,max_depth,max_nodes):\n",
        "        self.training_dataframe=pd.concat([X, y], axis=1)\n",
        "        i=1 # the number of node\n",
        "        self.working_point[self.root]=[1,self.training_dataframe]\n",
        "        while(self.working_point):\n",
        "            #sort nodes in ascending order by probability of biggest class\n",
        "            self.working_point=dict(sorted(self.working_point.items(), key=lambda x: x[1][0]))\n",
        "            #get the first node\n",
        "            current_node=list(self.working_point.keys())[0]\n",
        "            node_data=self.working_point.pop(current_node)[1]\n",
        "            #calculate the information gain of the all columns of this point data\n",
        "            IG,columns_values_entropy=information_gain(node_data,node_data.columns[-1])\n",
        "            #choose the column with max information gain\n",
        "            column_with_min_IG=max(IG, key=IG.get)\n",
        "            current_node.question=column_with_min_IG\n",
        "            #loop over chosen column values to make node's children\n",
        "            for value,entropy in columns_values_entropy[column_with_min_IG].items():\n",
        "                if (entropy == 0):#pure node\n",
        "                    new_node=Node(num=i,parent=current_node,value=value,depth=current_node.depth+1,result=node_data[node_data[column_with_min_IG]==value][node_data.columns[-1]].value_counts().idxmax())\n",
        "                    i+=1\n",
        "                else:\n",
        "                    new_node_data=node_data.drop(columns=[column_with_min_IG])[node_data[column_with_min_IG]==value]\n",
        "                    if(len(new_node_data.columns)==1 or current_node.depth+1>max_depth or i>max_nodes):#some stopping criteria\n",
        "                        new_node=Node(num=i,parent=current_node,value=value,depth=current_node.depth+1,result=node_data[node_data[column_with_min_IG]==value][node_data.columns[-1]].value_counts().idxmax())\n",
        "                        i+=1\n",
        "                    elif(len(new_node_data.columns)>1):\n",
        "                        new_node=Node(num=i,parent=current_node,value=value,depth=current_node.depth+1)\n",
        "                        i+=1\n",
        "                        self.working_point[new_node]=[node_data[node_data[column_with_min_IG]==value][node_data.columns[-1]].value_counts().idxmax()/node_data[node_data[column_with_min_IG]==value][node_data.columns[-1]].count(),new_node_data]\n",
        "                current_node.children.append(new_node)\n",
        "                \n",
        "                                        \n",
        "    def predict(self,X):\n",
        "        results=[]\n",
        "        #loop over X points\n",
        "        for i in range(len(X)):\n",
        "            cur_node=self.root\n",
        "            while(len(cur_node.children)!=0):#stop when the current node has no children\n",
        "                for child in cur_node.children:\n",
        "                    #if the value of the node equal the value in the point column move to this point\n",
        "                    if(X.iloc[i][cur_node.question]==child.value):\n",
        "                        cur_node=child\n",
        "                        break\n",
        "            results.append(cur_node.result)\n",
        "        return results\n",
        "\n",
        "    def score(self,X,y):\n",
        "        correct_count=0\n",
        "        #loop over X points\n",
        "        for i in range(len(X)):\n",
        "            cur_node=self.root\n",
        "            while(len(cur_node.children)!=0):#stop when the current node has no children\n",
        "                for child in cur_node.children:\n",
        "                    #if the value of the node equal the value in the point column move to this point\n",
        "                    if(X.iloc[i][cur_node.question]==child.value):\n",
        "                        cur_node=child\n",
        "                        break\n",
        "            #if the value of the predict equal the value of y increase correct_count\n",
        "            if(cur_node.result==y.iloc[i]):\n",
        "                correct_count+=1\n",
        "        return correct_count/len(y) #return acurrecy\n",
        "\n",
        "\n",
        "\n"
      ]
    },
    {
      "cell_type": "markdown",
      "id": "5ff67894",
      "metadata": {},
      "source": [
        "# split the data"
      ]
    },
    {
      "cell_type": "code",
      "execution_count": 18,
      "id": "2016d6c7",
      "metadata": {},
      "outputs": [],
      "source": [
        "from sklearn.model_selection import train_test_split\n",
        "\n",
        "\n",
        "X=cardio_train_df[selected_features]\n",
        "y=cardio_train_df[\"cardio\"]\n",
        "X_train, X_test, y_train, y_test = train_test_split(X, y, test_size=0.2, random_state=42)\n"
      ]
    },
    {
      "cell_type": "markdown",
      "id": "76bd26a2",
      "metadata": {},
      "source": [
        "train from scratch model"
      ]
    },
    {
      "cell_type": "code",
      "execution_count": 19,
      "id": "68f37851",
      "metadata": {},
      "outputs": [],
      "source": [
        "Decision_Tree_model=Decision_Tree()\n",
        "Decision_Tree_model.fit(X=X_train,y=y_train,max_depth=4,max_nodes=250)"
      ]
    },
    {
      "cell_type": "markdown",
      "id": "e212de70",
      "metadata": {},
      "source": [
        "print train and test accurrecy of from scratch model"
      ]
    },
    {
      "cell_type": "code",
      "execution_count": 20,
      "id": "4604b31b",
      "metadata": {},
      "outputs": [
        {
          "name": "stdout",
          "output_type": "stream",
          "text": [
            "train accurrecy = 0.7203739943465971\n",
            "test accurrecy = 0.715590345727332\n"
          ]
        }
      ],
      "source": [
        "print(f\"train accurrecy = {Decision_Tree_model.score(X=X_train,y=y_train)}\")\n",
        "print(f\"test accurrecy = {Decision_Tree_model.score(X=X_test,y=y_test)}\")"
      ]
    },
    {
      "cell_type": "markdown",
      "id": "8634e129",
      "metadata": {},
      "source": [
        "# part 3: Decision Tree Id3Estimator "
      ]
    },
    {
      "cell_type": "markdown",
      "id": "94821f02",
      "metadata": {},
      "source": [
        "import id3 library (this part from code while not work if it is runned again as it will not found the library)"
      ]
    },
    {
      "cell_type": "code",
      "execution_count": 21,
      "id": "fff84dda",
      "metadata": {},
      "outputs": [],
      "source": [
        "from id3 import Id3Estimator"
      ]
    },
    {
      "cell_type": "markdown",
      "id": "397a550d",
      "metadata": {},
      "source": [
        "train built_in model"
      ]
    },
    {
      "cell_type": "code",
      "execution_count": 22,
      "id": "cf295ed1",
      "metadata": {},
      "outputs": [
        {
          "data": {
            "text/html": [
              "<style>#sk-container-id-1 {\n",
              "  /* Definition of color scheme common for light and dark mode */\n",
              "  --sklearn-color-text: black;\n",
              "  --sklearn-color-line: gray;\n",
              "  /* Definition of color scheme for unfitted estimators */\n",
              "  --sklearn-color-unfitted-level-0: #fff5e6;\n",
              "  --sklearn-color-unfitted-level-1: #f6e4d2;\n",
              "  --sklearn-color-unfitted-level-2: #ffe0b3;\n",
              "  --sklearn-color-unfitted-level-3: chocolate;\n",
              "  /* Definition of color scheme for fitted estimators */\n",
              "  --sklearn-color-fitted-level-0: #f0f8ff;\n",
              "  --sklearn-color-fitted-level-1: #d4ebff;\n",
              "  --sklearn-color-fitted-level-2: #b3dbfd;\n",
              "  --sklearn-color-fitted-level-3: cornflowerblue;\n",
              "\n",
              "  /* Specific color for light theme */\n",
              "  --sklearn-color-text-on-default-background: var(--sg-text-color, var(--theme-code-foreground, var(--jp-content-font-color1, black)));\n",
              "  --sklearn-color-background: var(--sg-background-color, var(--theme-background, var(--jp-layout-color0, white)));\n",
              "  --sklearn-color-border-box: var(--sg-text-color, var(--theme-code-foreground, var(--jp-content-font-color1, black)));\n",
              "  --sklearn-color-icon: #696969;\n",
              "\n",
              "  @media (prefers-color-scheme: dark) {\n",
              "    /* Redefinition of color scheme for dark theme */\n",
              "    --sklearn-color-text-on-default-background: var(--sg-text-color, var(--theme-code-foreground, var(--jp-content-font-color1, white)));\n",
              "    --sklearn-color-background: var(--sg-background-color, var(--theme-background, var(--jp-layout-color0, #111)));\n",
              "    --sklearn-color-border-box: var(--sg-text-color, var(--theme-code-foreground, var(--jp-content-font-color1, white)));\n",
              "    --sklearn-color-icon: #878787;\n",
              "  }\n",
              "}\n",
              "\n",
              "#sk-container-id-1 {\n",
              "  color: var(--sklearn-color-text);\n",
              "}\n",
              "\n",
              "#sk-container-id-1 pre {\n",
              "  padding: 0;\n",
              "}\n",
              "\n",
              "#sk-container-id-1 input.sk-hidden--visually {\n",
              "  border: 0;\n",
              "  clip: rect(1px 1px 1px 1px);\n",
              "  clip: rect(1px, 1px, 1px, 1px);\n",
              "  height: 1px;\n",
              "  margin: -1px;\n",
              "  overflow: hidden;\n",
              "  padding: 0;\n",
              "  position: absolute;\n",
              "  width: 1px;\n",
              "}\n",
              "\n",
              "#sk-container-id-1 div.sk-dashed-wrapped {\n",
              "  border: 1px dashed var(--sklearn-color-line);\n",
              "  margin: 0 0.4em 0.5em 0.4em;\n",
              "  box-sizing: border-box;\n",
              "  padding-bottom: 0.4em;\n",
              "  background-color: var(--sklearn-color-background);\n",
              "}\n",
              "\n",
              "#sk-container-id-1 div.sk-container {\n",
              "  /* jupyter's `normalize.less` sets `[hidden] { display: none; }`\n",
              "     but bootstrap.min.css set `[hidden] { display: none !important; }`\n",
              "     so we also need the `!important` here to be able to override the\n",
              "     default hidden behavior on the sphinx rendered scikit-learn.org.\n",
              "     See: https://github.com/scikit-learn/scikit-learn/issues/21755 */\n",
              "  display: inline-block !important;\n",
              "  position: relative;\n",
              "}\n",
              "\n",
              "#sk-container-id-1 div.sk-text-repr-fallback {\n",
              "  display: none;\n",
              "}\n",
              "\n",
              "div.sk-parallel-item,\n",
              "div.sk-serial,\n",
              "div.sk-item {\n",
              "  /* draw centered vertical line to link estimators */\n",
              "  background-image: linear-gradient(var(--sklearn-color-text-on-default-background), var(--sklearn-color-text-on-default-background));\n",
              "  background-size: 2px 100%;\n",
              "  background-repeat: no-repeat;\n",
              "  background-position: center center;\n",
              "}\n",
              "\n",
              "/* Parallel-specific style estimator block */\n",
              "\n",
              "#sk-container-id-1 div.sk-parallel-item::after {\n",
              "  content: \"\";\n",
              "  width: 100%;\n",
              "  border-bottom: 2px solid var(--sklearn-color-text-on-default-background);\n",
              "  flex-grow: 1;\n",
              "}\n",
              "\n",
              "#sk-container-id-1 div.sk-parallel {\n",
              "  display: flex;\n",
              "  align-items: stretch;\n",
              "  justify-content: center;\n",
              "  background-color: var(--sklearn-color-background);\n",
              "  position: relative;\n",
              "}\n",
              "\n",
              "#sk-container-id-1 div.sk-parallel-item {\n",
              "  display: flex;\n",
              "  flex-direction: column;\n",
              "}\n",
              "\n",
              "#sk-container-id-1 div.sk-parallel-item:first-child::after {\n",
              "  align-self: flex-end;\n",
              "  width: 50%;\n",
              "}\n",
              "\n",
              "#sk-container-id-1 div.sk-parallel-item:last-child::after {\n",
              "  align-self: flex-start;\n",
              "  width: 50%;\n",
              "}\n",
              "\n",
              "#sk-container-id-1 div.sk-parallel-item:only-child::after {\n",
              "  width: 0;\n",
              "}\n",
              "\n",
              "/* Serial-specific style estimator block */\n",
              "\n",
              "#sk-container-id-1 div.sk-serial {\n",
              "  display: flex;\n",
              "  flex-direction: column;\n",
              "  align-items: center;\n",
              "  background-color: var(--sklearn-color-background);\n",
              "  padding-right: 1em;\n",
              "  padding-left: 1em;\n",
              "}\n",
              "\n",
              "\n",
              "/* Toggleable style: style used for estimator/Pipeline/ColumnTransformer box that is\n",
              "clickable and can be expanded/collapsed.\n",
              "- Pipeline and ColumnTransformer use this feature and define the default style\n",
              "- Estimators will overwrite some part of the style using the `sk-estimator` class\n",
              "*/\n",
              "\n",
              "/* Pipeline and ColumnTransformer style (default) */\n",
              "\n",
              "#sk-container-id-1 div.sk-toggleable {\n",
              "  /* Default theme specific background. It is overwritten whether we have a\n",
              "  specific estimator or a Pipeline/ColumnTransformer */\n",
              "  background-color: var(--sklearn-color-background);\n",
              "}\n",
              "\n",
              "/* Toggleable label */\n",
              "#sk-container-id-1 label.sk-toggleable__label {\n",
              "  cursor: pointer;\n",
              "  display: block;\n",
              "  width: 100%;\n",
              "  margin-bottom: 0;\n",
              "  padding: 0.5em;\n",
              "  box-sizing: border-box;\n",
              "  text-align: center;\n",
              "}\n",
              "\n",
              "#sk-container-id-1 label.sk-toggleable__label-arrow:before {\n",
              "  /* Arrow on the left of the label */\n",
              "  content: \"▸\";\n",
              "  float: left;\n",
              "  margin-right: 0.25em;\n",
              "  color: var(--sklearn-color-icon);\n",
              "}\n",
              "\n",
              "#sk-container-id-1 label.sk-toggleable__label-arrow:hover:before {\n",
              "  color: var(--sklearn-color-text);\n",
              "}\n",
              "\n",
              "/* Toggleable content - dropdown */\n",
              "\n",
              "#sk-container-id-1 div.sk-toggleable__content {\n",
              "  max-height: 0;\n",
              "  max-width: 0;\n",
              "  overflow: hidden;\n",
              "  text-align: left;\n",
              "  /* unfitted */\n",
              "  background-color: var(--sklearn-color-unfitted-level-0);\n",
              "}\n",
              "\n",
              "#sk-container-id-1 div.sk-toggleable__content.fitted {\n",
              "  /* fitted */\n",
              "  background-color: var(--sklearn-color-fitted-level-0);\n",
              "}\n",
              "\n",
              "#sk-container-id-1 div.sk-toggleable__content pre {\n",
              "  margin: 0.2em;\n",
              "  border-radius: 0.25em;\n",
              "  color: var(--sklearn-color-text);\n",
              "  /* unfitted */\n",
              "  background-color: var(--sklearn-color-unfitted-level-0);\n",
              "}\n",
              "\n",
              "#sk-container-id-1 div.sk-toggleable__content.fitted pre {\n",
              "  /* unfitted */\n",
              "  background-color: var(--sklearn-color-fitted-level-0);\n",
              "}\n",
              "\n",
              "#sk-container-id-1 input.sk-toggleable__control:checked~div.sk-toggleable__content {\n",
              "  /* Expand drop-down */\n",
              "  max-height: 200px;\n",
              "  max-width: 100%;\n",
              "  overflow: auto;\n",
              "}\n",
              "\n",
              "#sk-container-id-1 input.sk-toggleable__control:checked~label.sk-toggleable__label-arrow:before {\n",
              "  content: \"▾\";\n",
              "}\n",
              "\n",
              "/* Pipeline/ColumnTransformer-specific style */\n",
              "\n",
              "#sk-container-id-1 div.sk-label input.sk-toggleable__control:checked~label.sk-toggleable__label {\n",
              "  color: var(--sklearn-color-text);\n",
              "  background-color: var(--sklearn-color-unfitted-level-2);\n",
              "}\n",
              "\n",
              "#sk-container-id-1 div.sk-label.fitted input.sk-toggleable__control:checked~label.sk-toggleable__label {\n",
              "  background-color: var(--sklearn-color-fitted-level-2);\n",
              "}\n",
              "\n",
              "/* Estimator-specific style */\n",
              "\n",
              "/* Colorize estimator box */\n",
              "#sk-container-id-1 div.sk-estimator input.sk-toggleable__control:checked~label.sk-toggleable__label {\n",
              "  /* unfitted */\n",
              "  background-color: var(--sklearn-color-unfitted-level-2);\n",
              "}\n",
              "\n",
              "#sk-container-id-1 div.sk-estimator.fitted input.sk-toggleable__control:checked~label.sk-toggleable__label {\n",
              "  /* fitted */\n",
              "  background-color: var(--sklearn-color-fitted-level-2);\n",
              "}\n",
              "\n",
              "#sk-container-id-1 div.sk-label label.sk-toggleable__label,\n",
              "#sk-container-id-1 div.sk-label label {\n",
              "  /* The background is the default theme color */\n",
              "  color: var(--sklearn-color-text-on-default-background);\n",
              "}\n",
              "\n",
              "/* On hover, darken the color of the background */\n",
              "#sk-container-id-1 div.sk-label:hover label.sk-toggleable__label {\n",
              "  color: var(--sklearn-color-text);\n",
              "  background-color: var(--sklearn-color-unfitted-level-2);\n",
              "}\n",
              "\n",
              "/* Label box, darken color on hover, fitted */\n",
              "#sk-container-id-1 div.sk-label.fitted:hover label.sk-toggleable__label.fitted {\n",
              "  color: var(--sklearn-color-text);\n",
              "  background-color: var(--sklearn-color-fitted-level-2);\n",
              "}\n",
              "\n",
              "/* Estimator label */\n",
              "\n",
              "#sk-container-id-1 div.sk-label label {\n",
              "  font-family: monospace;\n",
              "  font-weight: bold;\n",
              "  display: inline-block;\n",
              "  line-height: 1.2em;\n",
              "}\n",
              "\n",
              "#sk-container-id-1 div.sk-label-container {\n",
              "  text-align: center;\n",
              "}\n",
              "\n",
              "/* Estimator-specific */\n",
              "#sk-container-id-1 div.sk-estimator {\n",
              "  font-family: monospace;\n",
              "  border: 1px dotted var(--sklearn-color-border-box);\n",
              "  border-radius: 0.25em;\n",
              "  box-sizing: border-box;\n",
              "  margin-bottom: 0.5em;\n",
              "  /* unfitted */\n",
              "  background-color: var(--sklearn-color-unfitted-level-0);\n",
              "}\n",
              "\n",
              "#sk-container-id-1 div.sk-estimator.fitted {\n",
              "  /* fitted */\n",
              "  background-color: var(--sklearn-color-fitted-level-0);\n",
              "}\n",
              "\n",
              "/* on hover */\n",
              "#sk-container-id-1 div.sk-estimator:hover {\n",
              "  /* unfitted */\n",
              "  background-color: var(--sklearn-color-unfitted-level-2);\n",
              "}\n",
              "\n",
              "#sk-container-id-1 div.sk-estimator.fitted:hover {\n",
              "  /* fitted */\n",
              "  background-color: var(--sklearn-color-fitted-level-2);\n",
              "}\n",
              "\n",
              "/* Specification for estimator info (e.g. \"i\" and \"?\") */\n",
              "\n",
              "/* Common style for \"i\" and \"?\" */\n",
              "\n",
              ".sk-estimator-doc-link,\n",
              "a:link.sk-estimator-doc-link,\n",
              "a:visited.sk-estimator-doc-link {\n",
              "  float: right;\n",
              "  font-size: smaller;\n",
              "  line-height: 1em;\n",
              "  font-family: monospace;\n",
              "  background-color: var(--sklearn-color-background);\n",
              "  border-radius: 1em;\n",
              "  height: 1em;\n",
              "  width: 1em;\n",
              "  text-decoration: none !important;\n",
              "  margin-left: 1ex;\n",
              "  /* unfitted */\n",
              "  border: var(--sklearn-color-unfitted-level-1) 1pt solid;\n",
              "  color: var(--sklearn-color-unfitted-level-1);\n",
              "}\n",
              "\n",
              ".sk-estimator-doc-link.fitted,\n",
              "a:link.sk-estimator-doc-link.fitted,\n",
              "a:visited.sk-estimator-doc-link.fitted {\n",
              "  /* fitted */\n",
              "  border: var(--sklearn-color-fitted-level-1) 1pt solid;\n",
              "  color: var(--sklearn-color-fitted-level-1);\n",
              "}\n",
              "\n",
              "/* On hover */\n",
              "div.sk-estimator:hover .sk-estimator-doc-link:hover,\n",
              ".sk-estimator-doc-link:hover,\n",
              "div.sk-label-container:hover .sk-estimator-doc-link:hover,\n",
              ".sk-estimator-doc-link:hover {\n",
              "  /* unfitted */\n",
              "  background-color: var(--sklearn-color-unfitted-level-3);\n",
              "  color: var(--sklearn-color-background);\n",
              "  text-decoration: none;\n",
              "}\n",
              "\n",
              "div.sk-estimator.fitted:hover .sk-estimator-doc-link.fitted:hover,\n",
              ".sk-estimator-doc-link.fitted:hover,\n",
              "div.sk-label-container:hover .sk-estimator-doc-link.fitted:hover,\n",
              ".sk-estimator-doc-link.fitted:hover {\n",
              "  /* fitted */\n",
              "  background-color: var(--sklearn-color-fitted-level-3);\n",
              "  color: var(--sklearn-color-background);\n",
              "  text-decoration: none;\n",
              "}\n",
              "\n",
              "/* Span, style for the box shown on hovering the info icon */\n",
              ".sk-estimator-doc-link span {\n",
              "  display: none;\n",
              "  z-index: 9999;\n",
              "  position: relative;\n",
              "  font-weight: normal;\n",
              "  right: .2ex;\n",
              "  padding: .5ex;\n",
              "  margin: .5ex;\n",
              "  width: min-content;\n",
              "  min-width: 20ex;\n",
              "  max-width: 50ex;\n",
              "  color: var(--sklearn-color-text);\n",
              "  box-shadow: 2pt 2pt 4pt #999;\n",
              "  /* unfitted */\n",
              "  background: var(--sklearn-color-unfitted-level-0);\n",
              "  border: .5pt solid var(--sklearn-color-unfitted-level-3);\n",
              "}\n",
              "\n",
              ".sk-estimator-doc-link.fitted span {\n",
              "  /* fitted */\n",
              "  background: var(--sklearn-color-fitted-level-0);\n",
              "  border: var(--sklearn-color-fitted-level-3);\n",
              "}\n",
              "\n",
              ".sk-estimator-doc-link:hover span {\n",
              "  display: block;\n",
              "}\n",
              "\n",
              "/* \"?\"-specific style due to the `<a>` HTML tag */\n",
              "\n",
              "#sk-container-id-1 a.estimator_doc_link {\n",
              "  float: right;\n",
              "  font-size: 1rem;\n",
              "  line-height: 1em;\n",
              "  font-family: monospace;\n",
              "  background-color: var(--sklearn-color-background);\n",
              "  border-radius: 1rem;\n",
              "  height: 1rem;\n",
              "  width: 1rem;\n",
              "  text-decoration: none;\n",
              "  /* unfitted */\n",
              "  color: var(--sklearn-color-unfitted-level-1);\n",
              "  border: var(--sklearn-color-unfitted-level-1) 1pt solid;\n",
              "}\n",
              "\n",
              "#sk-container-id-1 a.estimator_doc_link.fitted {\n",
              "  /* fitted */\n",
              "  border: var(--sklearn-color-fitted-level-1) 1pt solid;\n",
              "  color: var(--sklearn-color-fitted-level-1);\n",
              "}\n",
              "\n",
              "/* On hover */\n",
              "#sk-container-id-1 a.estimator_doc_link:hover {\n",
              "  /* unfitted */\n",
              "  background-color: var(--sklearn-color-unfitted-level-3);\n",
              "  color: var(--sklearn-color-background);\n",
              "  text-decoration: none;\n",
              "}\n",
              "\n",
              "#sk-container-id-1 a.estimator_doc_link.fitted:hover {\n",
              "  /* fitted */\n",
              "  background-color: var(--sklearn-color-fitted-level-3);\n",
              "}\n",
              "</style><div id=\"sk-container-id-1\" class=\"sk-top-container\"><div class=\"sk-text-repr-fallback\"><pre>Id3Estimator()</pre><b>In a Jupyter environment, please rerun this cell to show the HTML representation or trust the notebook. <br />On GitHub, the HTML representation is unable to render, please try loading this page with nbviewer.org.</b></div><div class=\"sk-container\" hidden><div class=\"sk-item\"><div class=\"sk-estimator fitted sk-toggleable\"><input class=\"sk-toggleable__control sk-hidden--visually\" id=\"sk-estimator-id-1\" type=\"checkbox\" checked><label for=\"sk-estimator-id-1\" class=\"sk-toggleable__label fitted sk-toggleable__label-arrow fitted\">&nbsp;Id3Estimator<span class=\"sk-estimator-doc-link fitted\">i<span>Fitted</span></span></label><div class=\"sk-toggleable__content fitted\"><pre>Id3Estimator()</pre></div> </div></div></div></div>"
            ],
            "text/plain": [
              "Id3Estimator()"
            ]
          },
          "execution_count": 22,
          "metadata": {},
          "output_type": "execute_result"
        }
      ],
      "source": [
        "id3_built_in=Id3Estimator()\n",
        "id3_built_in.fit(X=X_train,y=y_train)"
      ]
    },
    {
      "cell_type": "markdown",
      "id": "ed9a6102",
      "metadata": {},
      "source": [
        "print train and test accurrecy of built_in model"
      ]
    },
    {
      "cell_type": "code",
      "execution_count": 23,
      "id": "94855eeb",
      "metadata": {},
      "outputs": [
        {
          "name": "stdout",
          "output_type": "stream",
          "text": [
            "train accurrecy = 0.7193592810031166\n",
            "test accurrecy = 0.7151554685801261\n"
          ]
        }
      ],
      "source": [
        "y_train_pred = id3_built_in.predict(X=X_train)\n",
        "y_test_pred = id3_built_in.predict(X=X_test)\n",
        "\n",
        "print(f\"train accurrecy = {(y_train_pred==y_train).mean()}\")\n",
        "print(f\"test accurrecy = {(y_test_pred==y_test).mean()}\")"
      ]
    },
    {
      "cell_type": "markdown",
      "id": "29a97f3a",
      "metadata": {},
      "source": [
        "# part 4: Decision Tree from scratch on Student dataset"
      ]
    },
    {
      "cell_type": "markdown",
      "id": "3b8e108f",
      "metadata": {},
      "source": [
        "read student dataset"
      ]
    },
    {
      "cell_type": "code",
      "execution_count": 24,
      "id": "35aff7dc",
      "metadata": {},
      "outputs": [],
      "source": [
        "student_df=pd.read_csv(\"student.csv\")\n",
        "X=student_df.drop(columns=[\"A\"])\n",
        "y=student_df[\"A\"]"
      ]
    },
    {
      "cell_type": "markdown",
      "id": "9e73086c",
      "metadata": {},
      "source": [
        "train from_scratch model"
      ]
    },
    {
      "cell_type": "code",
      "execution_count": 25,
      "id": "95394aa1",
      "metadata": {},
      "outputs": [],
      "source": [
        "Decision_Tree_model=Decision_Tree()\n",
        "Decision_Tree_model.fit(X=X,y=y,max_depth=100,max_nodes=200)"
      ]
    },
    {
      "cell_type": "markdown",
      "id": "55d9e5f0",
      "metadata": {},
      "source": [
        "print accurrecy of from_scratch model"
      ]
    },
    {
      "cell_type": "code",
      "execution_count": 26,
      "id": "ce6a0a66",
      "metadata": {},
      "outputs": [
        {
          "name": "stdout",
          "output_type": "stream",
          "text": [
            "train 1.0\n"
          ]
        }
      ],
      "source": [
        "print(f\"train {Decision_Tree_model.score(X=X,y=y)}\")"
      ]
    }
  ],
  "metadata": {
    "colab": {
      "provenance": []
    },
    "kernelspec": {
      "display_name": "Python 3 (ipykernel)",
      "language": "python",
      "name": "python3"
    },
    "language_info": {
      "codemirror_mode": {
        "name": "ipython",
        "version": 3
      },
      "file_extension": ".py",
      "mimetype": "text/x-python",
      "name": "python",
      "nbconvert_exporter": "python",
      "pygments_lexer": "ipython3",
      "version": "3.12.2"
    }
  },
  "nbformat": 4,
  "nbformat_minor": 5
}
